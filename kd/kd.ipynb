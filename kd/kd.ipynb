{
 "cells": [
  {
   "cell_type": "markdown",
   "id": "9f91da8c-cb6f-4d60-9775-480aeed53b96",
   "metadata": {},
   "source": [
    "[🐴 Kentucky Derby Data — HorseRacingDatasets.com](https://horseracingdatasets.com/kentucky-derby)"
   ]
  },
  {
   "cell_type": "markdown",
   "id": "7992aeb3",
   "metadata": {},
   "source": [
    "*Look for Kentucky Derby Statistics*"
   ]
  },
  {
   "cell_type": "markdown",
   "id": "b0f91907",
   "metadata": {},
   "source": []
  }
 ],
 "metadata": {
  "kernelspec": {
   "display_name": "Python 3 (ipykernel)",
   "language": "python",
   "name": "python3"
  },
  "language_info": {
   "codemirror_mode": {
    "name": "ipython",
    "version": 3
   },
   "file_extension": ".py",
   "mimetype": "text/x-python",
   "name": "python",
   "nbconvert_exporter": "python",
   "pygments_lexer": "ipython3",
   "version": "3.12.3"
  }
 },
 "nbformat": 4,
 "nbformat_minor": 5
}
