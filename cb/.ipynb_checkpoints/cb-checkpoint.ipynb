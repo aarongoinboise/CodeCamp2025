{
 "cells": [
  {
   "cell_type": "code",
   "execution_count": null,
   "metadata": {
    "id": "gcwJZf0rK8Je"
   },
   "outputs": [],
   "source": [
    "!pip install transformers torch"
   ]
  },
  {
   "cell_type": "markdown",
   "metadata": {},
   "source": [
    "## 📜 Credits\n",
    "\n",
    "- [Hugging Face: Jensen-holm/Nigl Data](https://huggingface.co/Jensen-holm/Nigl/tree/main/data)\n",
    "- [Kaggle: March Machine Learning Mania 2025](https://www.kaggle.com/competitions/march-machine-learning-mania-2025/)"
   ]
  },
  {
   "cell_type": "markdown",
   "metadata": {
    "id": "G_qJ42tfOC7u"
   },
   "source": [
    "### Features\n",
    "\n",
    "- **ChalkSeedDiff**: Team2 seed − Team1 seed  \n",
    "- **ScoreDiff mean reg**: Team1 average score difference - Team 2's  \n",
    "- **FGMDiff mean reg**: Team1 average field goals made difference in regular season - Team2\n",
    "- **FGM3Diff mean reg**: Team1 average 3-point FGM difference in regular season  - Team2\n",
    "- **TODiff mean reg**: Team1 average turnover difference in regular season  - Team2\n",
    "- **OppScore mean reg**: Team2 average points allowed in regular season  \n",
    "- **OppFGM mean reg**: Team2 average field goals made allowed  \n",
    "- **OppFGM3 mean reg**: Team2 average 3-point FGM allowed  \n",
    "- **OppTO mean reg**: Team2 average turnovers forced  "
   ]
  },
  {
   "cell_type": "code",
   "execution_count": 46,
   "metadata": {
    "colab": {
     "base_uri": "https://localhost:8080/",
     "height": 341
    },
    "id": "sPNbKggJOkwx",
    "outputId": "9be9500f-f07c-49cc-8192-343a9a305e19"
   },
   "outputs": [],
   "source": [
    "import torch\n",
    "import torch.nn as nn\n",
    "import warnings\n",
    "\n",
    "input_data = torch.tensor([\n",
    "    -2, 4.285714286, 0.785714286, 0, -0.571428571, 65, 23.25, 6.357142857, 13.85714286\n",
    "], dtype=torch.float32).unsqueeze(0)\n",
    "\n",
    "team_1_name = \"Team 1\"\n",
    "team_2_name = \"Team 2\""
   ]
  },
  {
   "cell_type": "code",
   "execution_count": 47,
   "metadata": {
    "colab": {
     "base_uri": "https://localhost:8080/"
    },
    "id": "IjkwF0o5FSPQ",
    "outputId": "98f71920-19db-4f15-e261-7a2760ff9cbe"
   },
   "outputs": [
    {
     "name": "stdout",
     "output_type": "stream",
     "text": [
      "The model predicts Team 2 will win with a confidence of 0.9999.\n"
     ]
    }
   ],
   "source": [
    "# Define model\n",
    "num_features = 9\n",
    "class NiglNN(nn.Module):\n",
    "    def __init__(self):\n",
    "        super().__init__()\n",
    "        self.activation_func = nn.Sigmoid()\n",
    "        self.layer1 = nn.Linear(num_features, 64)\n",
    "        self.layer2 = nn.Linear(64, 32)\n",
    "        self.layer3 = nn.Linear(32, 16)\n",
    "        self.layer4 = nn.Linear(16, 8)\n",
    "        self.layer5 = nn.Linear(8, 4)\n",
    "        self.layer6 = nn.Linear(4, 1)\n",
    "\n",
    "    def forward(self, x: torch.Tensor):\n",
    "        x = self.layer1(x)\n",
    "        x = self.activation_func(x)\n",
    "        x = self.layer2(x)\n",
    "        x = self.activation_func(x)\n",
    "        x = self.layer3(x)\n",
    "        x = self.activation_func(x)\n",
    "        x = self.layer4(x)\n",
    "        x = self.activation_func(x)\n",
    "        x = self.layer5(x)\n",
    "        x = self.activation_func(x)\n",
    "        x = self.layer6(x)\n",
    "        x = self.activation_func(x)\n",
    "        return x\n",
    "\n",
    "# Load the model\n",
    "warnings.filterwarnings(\"ignore\", category=FutureWarning)\n",
    "# Load the model\n",
    "model = torch.load(\"Mnn10k.pth\", map_location=torch.device('cpu'))\n",
    "model.eval()\n",
    "\n",
    "# Make prediction\n",
    "with torch.no_grad():\n",
    "    pred = model(input_data)\n",
    "    prediction = pred.item()\n",
    "    if prediction > 0.5:\n",
    "        print(f\"The model predicts {team_1_name} will win with a confidence of {prediction:.4f}.\")\n",
    "    else:\n",
    "        print(f\"The model predicts {team_2_name} will win with a confidence of {1 - prediction:.4f}.\")"
   ]
  },
  {
   "cell_type": "code",
   "execution_count": null,
   "metadata": {
    "id": "0SOImm5LMAV3"
   },
   "outputs": [],
   "source": []
  }
 ],
 "metadata": {
  "accelerator": "GPU",
  "colab": {
   "gpuType": "T4",
   "provenance": []
  },
  "kernelspec": {
   "display_name": "Python 3 (ipykernel)",
   "language": "python",
   "name": "python3"
  },
  "language_info": {
   "codemirror_mode": {
    "name": "ipython",
    "version": 3
   },
   "file_extension": ".py",
   "mimetype": "text/x-python",
   "name": "python",
   "nbconvert_exporter": "python",
   "pygments_lexer": "ipython3",
   "version": "3.12.3"
  }
 },
 "nbformat": 4,
 "nbformat_minor": 4
}
