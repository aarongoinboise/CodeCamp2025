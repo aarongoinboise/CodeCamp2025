{
 "cells": [
  {
   "cell_type": "code",
   "execution_count": 1,
   "metadata": {
    "id": "gcwJZf0rK8Je"
   },
   "outputs": [
    {
     "name": "stdout",
     "output_type": "stream",
     "text": [
      "Requirement already satisfied: torch in /home/codespace/.local/lib/python3.12/site-packages (2.6.0+cpu)\n",
      "Requirement already satisfied: filelock in /home/codespace/.local/lib/python3.12/site-packages (from torch) (3.13.1)\n",
      "Requirement already satisfied: typing-extensions>=4.10.0 in /home/codespace/.local/lib/python3.12/site-packages (from torch) (4.12.2)\n",
      "Requirement already satisfied: networkx in /home/codespace/.local/lib/python3.12/site-packages (from torch) (3.3)\n",
      "Requirement already satisfied: jinja2 in /home/codespace/.local/lib/python3.12/site-packages (from torch) (3.1.6)\n",
      "Requirement already satisfied: fsspec in /home/codespace/.local/lib/python3.12/site-packages (from torch) (2024.6.1)\n",
      "Requirement already satisfied: setuptools in /home/codespace/.local/lib/python3.12/site-packages (from torch) (76.0.0)\n",
      "Requirement already satisfied: sympy==1.13.1 in /home/codespace/.local/lib/python3.12/site-packages (from torch) (1.13.1)\n",
      "Requirement already satisfied: mpmath<1.4,>=1.1.0 in /home/codespace/.local/lib/python3.12/site-packages (from sympy==1.13.1->torch) (1.3.0)\n",
      "Requirement already satisfied: MarkupSafe>=2.0 in /home/codespace/.local/lib/python3.12/site-packages (from jinja2->torch) (3.0.2)\n",
      "\n",
      "\u001b[1m[\u001b[0m\u001b[34;49mnotice\u001b[0m\u001b[1;39;49m]\u001b[0m\u001b[39;49m A new release of pip is available: \u001b[0m\u001b[31;49m25.0.1\u001b[0m\u001b[39;49m -> \u001b[0m\u001b[32;49m25.1.1\u001b[0m\n",
      "\u001b[1m[\u001b[0m\u001b[34;49mnotice\u001b[0m\u001b[1;39;49m]\u001b[0m\u001b[39;49m To update, run: \u001b[0m\u001b[32;49mpython3 -m pip install --upgrade pip\u001b[0m\n"
     ]
    }
   ],
   "source": [
    "!pip install torch"
   ]
  },
  {
   "cell_type": "markdown",
   "metadata": {},
   "source": [
    "## 📜 Credits\n",
    "\n",
    "- [Hugging Face: Jensen-holm/Nigl Data](https://huggingface.co/Jensen-holm/Nigl/tree/main/data)\n",
    "- [Kaggle: March Machine Learning Mania 2025](https://www.kaggle.com/competitions/march-machine-learning-mania-2025/)"
   ]
  },
  {
   "cell_type": "markdown",
   "metadata": {
    "id": "G_qJ42tfOC7u"
   },
   "source": [
    "### Features\n",
    "\n",
    "- **ChalkSeedDiff**: Team2 seed − Team1 seed  \n",
    "- **ScoreDiff mean reg**: Team1 average score difference - Team 2's  \n",
    "- **FGMDiff mean reg**: Team1 average field goals made difference in regular season - Team2\n",
    "- **FGM3Diff mean reg**: Team1 average 3-point FGM difference in regular season  - Team2\n",
    "- **TODiff mean reg**: Team1 average turnover difference in regular season  - Team2\n",
    "- **OppScore mean reg**: Team2 average points allowed in regular season  \n",
    "- **OppFGM mean reg**: Team2 average field goals made allowed  \n",
    "- **OppFGM3 mean reg**: Team2 average 3-point FGM allowed  \n",
    "- **OppTO mean reg**: Team2 average turnovers forced  "
   ]
  },
  {
   "cell_type": "markdown",
   "metadata": {},
   "source": [
    "## Check Data"
   ]
  },
  {
   "cell_type": "code",
   "execution_count": 3,
   "metadata": {
    "scrolled": true
   },
   "outputs": [
    {
     "name": "stdout",
     "output_type": "stream",
     "text": [
      "0   -2\n",
      "Name: ChalkSeedDiff, dtype: int64 0    4.285714\n",
      "Name: ScoreDiff mean reg, dtype: float64 0    0.785714\n",
      "Name: FGMDiff mean reg, dtype: float64 0    0\n",
      "Name: FGM3Diff mean reg, dtype: int64 0   -0.571429\n",
      "Name: TODiff mean reg, dtype: float64 0    65\n",
      "Name: OppScore mean reg, dtype: int64 0    23.25\n",
      "Name: OppFGM mean reg, dtype: float64 0    6.357143\n",
      "Name: OppFGM3 mean reg, dtype: float64 0    13.857143\n",
      "Name: OppTO mean reg, dtype: float64\n",
      "True\n",
      "True\n",
      "True\n",
      "True\n",
      "True\n"
     ]
    }
   ],
   "source": [
    "import pandas as pd\n",
    "import math\n",
    "\n",
    "ex = pd.read_csv('ex_row.csv')\n",
    "print(ex['ChalkSeedDiff'], ex['ScoreDiff mean reg'], ex['FGMDiff mean reg'], ex['FGM3Diff mean reg']\n",
    "     , ex['TODiff mean reg'], ex['OppScore mean reg'], ex['OppFGM mean reg'], ex['OppFGM3 mean reg'],\n",
    "     ex['OppTO mean reg'])\n",
    "print(math.isclose(float(ex['OppChalkSeed'].iloc[0]) - float(ex['ChalkSeed'].iloc[0]), float(ex['ChalkSeedDiff'].iloc[0]), rel_tol=1e-6))\n",
    "print(math.isclose(float(ex['TeamScore mean reg'].iloc[0]) - float(ex['OppScore mean reg'].iloc[0]), float(ex['ScoreDiff mean reg'].iloc[0]), rel_tol=1e-6))\n",
    "print(math.isclose(float(ex['TeamFGM mean reg'].iloc[0]) - float(ex['OppFGM mean reg'].iloc[0]), float(ex['FGMDiff mean reg'].iloc[0]), rel_tol=1e-6))\n",
    "print(math.isclose(float(ex['TeamFGM3 mean reg'].iloc[0]) - float(ex['OppFGM3 mean reg'].iloc[0]), float(ex['FGM3Diff mean reg'].iloc[0]), rel_tol=1e-6))\n",
    "print(math.isclose(float(ex['TeamTO mean reg'].iloc[0]) - float(ex['OppTO mean reg'].iloc[0]), float(ex['TODiff mean reg'].iloc[0]), rel_tol=1e-6))"
   ]
  },
  {
   "cell_type": "markdown",
   "metadata": {},
   "source": [
    "## Prep Data"
   ]
  },
  {
   "cell_type": "code",
   "execution_count": 4,
   "metadata": {},
   "outputs": [],
   "source": [
    "import pandas as pd\n",
    "from collections import Counter\n",
    "\n",
    "ids = pd.read_csv('MTeams.csv', index_col=False)[['TeamID', 'TeamName']]\n",
    "\n",
    "df = pd.read_csv('MRegularSeasonDetailedResults.csv')\n",
    "df = df[df['Season'] == 2025]\n",
    "name_to_id = dict(zip(ids['TeamName'], ids['TeamID']))\n",
    "\n",
    "# Initialize an empty dictionary to store the summed statistics for each team\n",
    "team_stats = {}\n",
    "team_appearances = {}\n",
    "\n",
    "# Iterate over each game in the dataframe\n",
    "for _, row in df.iterrows():\n",
    "    # Update stats for the winning team\n",
    "    if row['WTeamID'] not in team_stats:\n",
    "        team_stats[row['WTeamID']] = {'Score': 0, 'Score Diff': 0, 'FGM': 0, 'FGM Diff': 0,\n",
    "            'FGM3': 0, 'FGM3 Diff': 0, 'TO': 0, 'TO Diff': 0}\n",
    "    team_stats[row['WTeamID']]['Score'] += row['WScore']\n",
    "    team_stats[row['WTeamID']]['Score Diff'] += (row['WScore'] - row['LScore'])\n",
    "    team_stats[row['WTeamID']]['FGM'] += row['WFGM']\n",
    "    team_stats[row['WTeamID']]['FGM Diff'] += (row['WFGM'] - row['LFGM'])\n",
    "    team_stats[row['WTeamID']]['FGM3'] += row['WFGM3']\n",
    "    team_stats[row['WTeamID']]['FGM3 Diff'] += (row['WFGM3'] - row['LFGM3'])\n",
    "    team_stats[row['WTeamID']]['TO'] += row['WTO']\n",
    "    team_stats[row['WTeamID']]['TO Diff'] += (row['WTO'] - row['LTO'])\n",
    "    team_appearances[row['WTeamID']] = team_appearances.get(row['WTeamID'], 0) + 1\n",
    "    \n",
    "    # Update stats for the losing team\n",
    "    if row['LTeamID'] not in team_stats:\n",
    "        team_stats[row['LTeamID']] = {'Score': 0, 'Score Diff': 0, 'FGM': 0, 'FGM Diff': 0,\n",
    "            'FGM3': 0, 'FGM3 Diff': 0, 'TO': 0, 'TO Diff': 0}\n",
    "    team_stats[row['LTeamID']]['Score'] += row['LScore']\n",
    "    team_stats[row['LTeamID']]['Score Diff'] += (row['LScore'] - row['WScore'])\n",
    "    team_stats[row['LTeamID']]['FGM'] += row['LFGM']\n",
    "    team_stats[row['LTeamID']]['FGM Diff'] += (row['LFGM'] - row['WFGM'])\n",
    "    team_stats[row['LTeamID']]['FGM3'] += row['LFGM3']\n",
    "    team_stats[row['LTeamID']]['FGM3 Diff'] += (row['LFGM3'] - row['WFGM3'])\n",
    "    team_stats[row['LTeamID']]['TO'] += row['LTO']\n",
    "    team_stats[row['LTeamID']]['TO Diff'] += (row['LTO'] - row['WTO'])\n",
    "    team_appearances[row['LTeamID']] = team_appearances.get(row['LTeamID'], 0) + 1"
   ]
  },
  {
   "cell_type": "code",
   "execution_count": 5,
   "metadata": {},
   "outputs": [
    {
     "name": "stdout",
     "output_type": "stream",
     "text": [
      "All TeamIDs are unique.\n"
     ]
    }
   ],
   "source": [
    "# Convert the dictionary into a DataFrame\n",
    "team_stats_df = pd.DataFrame.from_dict(team_stats, orient='index').reset_index()\n",
    "team_stats_df.columns = ['TeamID', 'TotalScore', 'TotalScoreDiff', 'TotalFGM', 'TotalFGMDiff',\n",
    "                         'TotalFGM3', 'TotalFGM3Diff', 'TotalTO', 'TotalTODiff']\n",
    "team_stats_df['TotalAppearances'] = team_stats_df['TeamID'].map(team_appearances)\n",
    "team_stats_df['AvgScore'] = team_stats_df['TotalScore'] / team_stats_df['TotalAppearances']\n",
    "team_stats_df['AvgScoreDiff'] = team_stats_df['TotalScoreDiff'] / team_stats_df['TotalAppearances']\n",
    "team_stats_df['AvgFGM'] = team_stats_df['TotalFGM'] / team_stats_df['TotalAppearances']\n",
    "team_stats_df['AvgFGMDiff'] = team_stats_df['TotalFGMDiff'] / team_stats_df['TotalAppearances']\n",
    "team_stats_df['AvgFGM3'] = team_stats_df['TotalFGM3'] / team_stats_df['TotalAppearances']\n",
    "team_stats_df['AvgFGM3Diff'] = team_stats_df['TotalFGM3Diff'] / team_stats_df['TotalAppearances']\n",
    "team_stats_df['AvgTO'] = team_stats_df['TotalTO'] / team_stats_df['TotalAppearances']\n",
    "team_stats_df['AvgTODiff'] = team_stats_df['TotalTODiff'] / team_stats_df['TotalAppearances']\n",
    "\n",
    "id_counts = Counter(team_stats.keys())\n",
    "duplicates = [team_id for team_id, count in id_counts.items() if count > 1]\n",
    "\n",
    "if duplicates:\n",
    "    print(f\"Duplicate TeamIDs found: {duplicates}\")\n",
    "else:\n",
    "    print(\"All TeamIDs are unique.\")"
   ]
  },
  {
   "cell_type": "code",
   "execution_count": 6,
   "metadata": {},
   "outputs": [
    {
     "name": "stdout",
     "output_type": "stream",
     "text": [
      "Seed diff: 8 → Edge: Maryland\n",
      "Avg Score Diff: 6.52 → Edge: Maryland\n",
      "Avg FGM Diff: 1.63 → Edge: Maryland\n",
      "Avg FGM3 Diff: 0.02 → Edge: Maryland\n",
      "Avg TO Diff: -3.48 → Edge: Colorado St\n"
     ]
    }
   ],
   "source": [
    "# Get the games that will be played\n",
    "slots = pd.read_csv('MNCAATourneySeedRoundSlots.csv')\n",
    "seeds = pd.read_csv('MNCAATourneySeeds.csv')\n",
    "seeds_specific = seeds[seeds['Season'] == 2025][['Seed', 'TeamID']]\n",
    "team_id_to_seed = dict(zip(seeds_specific['TeamID'], seeds_specific['Seed'].str.replace(r'[A-Za-z]', '', regex=True)))\n",
    "\n",
    "# only include seeds that map to players\n",
    "slots = slots[slots['Seed'].isin(seeds_specific['Seed'])]\n",
    "slots = slots.merge(seeds_specific, on='Seed', how='left')\n",
    "slots['Seed'] = slots['TeamID']\n",
    "slots = slots.drop(columns='TeamID')\n",
    "\n",
    "grouped_slots = slots.groupby(['GameRound', 'GameSlot'], as_index=False).agg({'Seed': lambda x: list(x)})\n",
    "grouped_slots = grouped_slots.rename(columns={'Seed': 'SeedPossibilities'})\n",
    "\n",
    "# Maryland vs Colorado St\n",
    "team_1_name = 'Maryland'\n",
    "team_2_name = 'Colorado St'\n",
    "m_id = name_to_id[team_1_name]\n",
    "cs_id = name_to_id[team_2_name] \n",
    "check_r = grouped_slots[grouped_slots['SeedPossibilities'].apply(lambda x: m_id in x and cs_id in x)]\n",
    "check_r = check_r.loc[check_r['GameRound'].idxmin()]\n",
    "\n",
    "m_r = team_stats_df[team_stats_df['TeamID'] == m_id]\n",
    "cs_r = team_stats_df[team_stats_df['TeamID'] == cs_id]\n",
    "\n",
    "seed_diff = int(team_id_to_seed[cs_id]) - int(team_id_to_seed[m_id])\n",
    "score_diff = float(m_r['AvgScoreDiff'].iat[0] - cs_r['AvgScoreDiff'].iat[0])\n",
    "fgm_diff = float(m_r['AvgFGMDiff'].iat[0] - cs_r['AvgFGMDiff'].iat[0])\n",
    "fgm3_diff = float(m_r['AvgFGM3Diff'].iat[0] - cs_r['AvgFGM3Diff'].iat[0])\n",
    "to_diff = float(m_r['AvgTODiff'].iat[0] - cs_r['AvgTODiff'].iat[0])\n",
    "\n",
    "vals = [seed_diff, score_diff, fgm_diff, fgm3_diff, to_diff,\n",
    "        float(cs_r['AvgScoreDiff'].iat[0]),\n",
    "        float(cs_r['AvgFGMDiff'].iat[0]),\n",
    "        float(cs_r['AvgFGM3Diff'].iat[0]),\n",
    "        float(cs_r['AvgTODiff'].iat[0])]\n",
    "\n",
    "print(f\"Seed diff: {seed_diff} → {'Edge: ' + team_1_name if -seed_diff < 0 else 'Edge: ' + team_2_name}\")\n",
    "print(f\"Avg Score Diff: {score_diff:.2f} → {'Edge: ' + team_1_name if score_diff > 0 else 'Edge: ' + team_2_name}\")\n",
    "print(f\"Avg FGM Diff: {fgm_diff:.2f} → {'Edge: ' + team_1_name if fgm_diff > 0 else 'Edge: ' + team_2_name}\")\n",
    "print(f\"Avg FGM3 Diff: {fgm3_diff:.2f} → {'Edge: ' + team_1_name if fgm3_diff > 0 else 'Edge: ' + team_2_name}\")\n",
    "print(f\"Avg TO Diff: {to_diff:.2f} → {'Edge: ' + team_1_name if to_diff > 0 else 'Edge: ' + team_2_name}\")"
   ]
  },
  {
   "cell_type": "code",
   "execution_count": null,
   "metadata": {
    "colab": {
     "base_uri": "https://localhost:8080/",
     "height": 341
    },
    "id": "sPNbKggJOkwx",
    "outputId": "9be9500f-f07c-49cc-8192-343a9a305e19"
   },
   "outputs": [],
   "source": [
    "import torch\n",
    "import torch.nn as nn\n",
    "\n",
    "input_data = torch.tensor(vals, dtype=torch.float32).unsqueeze(0)"
   ]
  },
  {
   "cell_type": "code",
   "execution_count": 14,
   "metadata": {
    "colab": {
     "base_uri": "https://localhost:8080/"
    },
    "id": "IjkwF0o5FSPQ",
    "outputId": "98f71920-19db-4f15-e261-7a2760ff9cbe"
   },
   "outputs": [
    {
     "name": "stdout",
     "output_type": "stream",
     "text": [
      "The model predicts Colorado St will win with a confidence of 0.9999.\n"
     ]
    }
   ],
   "source": [
    "# Define model\n",
    "num_features = 9\n",
    "class NiglNN(nn.Module):\n",
    "    def __init__(self):\n",
    "        super().__init__()\n",
    "        self.activation_func = nn.Sigmoid()\n",
    "        self.layer1 = nn.Linear(num_features, 64)\n",
    "        self.layer2 = nn.Linear(64, 32)\n",
    "        self.layer3 = nn.Linear(32, 16)\n",
    "        self.layer4 = nn.Linear(16, 8)\n",
    "        self.layer5 = nn.Linear(8, 4)\n",
    "        self.layer6 = nn.Linear(4, 1)\n",
    "\n",
    "    def forward(self, x: torch.Tensor):\n",
    "        x = self.layer1(x)\n",
    "        x = self.activation_func(x)\n",
    "        x = self.layer2(x)\n",
    "        x = self.activation_func(x)\n",
    "        x = self.layer3(x)\n",
    "        x = self.activation_func(x)\n",
    "        x = self.layer4(x)\n",
    "        x = self.activation_func(x)\n",
    "        x = self.layer5(x)\n",
    "        x = self.activation_func(x)\n",
    "        x = self.layer6(x)\n",
    "        x = self.activation_func(x)\n",
    "        return x\n",
    "\n",
    "# Load the model\n",
    "torch.serialization.add_safe_globals([NiglNN])\n",
    "# Load the model\n",
    "model = torch.load(\"Mnn10k.pth\", map_location=torch.device('cpu'), weights_only=False)\n",
    "model.eval()\n",
    "\n",
    "# Make prediction\n",
    "with torch.no_grad():\n",
    "    pred = model(input_data)\n",
    "    prediction = pred.item()\n",
    "    if prediction > 0.5:\n",
    "        print(f\"The model predicts {team_1_name} will win with a confidence of {prediction:.4f}.\")\n",
    "    else:\n",
    "        print(f\"The model predicts {team_2_name} will win with a confidence of {1 - prediction:.4f}.\")"
   ]
  },
  {
   "cell_type": "code",
   "execution_count": null,
   "metadata": {
    "id": "0SOImm5LMAV3"
   },
   "outputs": [],
   "source": []
  }
 ],
 "metadata": {
  "accelerator": "GPU",
  "colab": {
   "gpuType": "T4",
   "provenance": []
  },
  "kernelspec": {
   "display_name": "Python 3",
   "language": "python",
   "name": "python3"
  },
  "language_info": {
   "codemirror_mode": {
    "name": "ipython",
    "version": 3
   },
   "file_extension": ".py",
   "mimetype": "text/x-python",
   "name": "python",
   "nbconvert_exporter": "python",
   "pygments_lexer": "ipython3",
   "version": "3.12.1"
  }
 },
 "nbformat": 4,
 "nbformat_minor": 4
}
