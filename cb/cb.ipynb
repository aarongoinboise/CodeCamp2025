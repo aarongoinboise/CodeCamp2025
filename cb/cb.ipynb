{
  "nbformat": 4,
  "nbformat_minor": 0,
  "metadata": {
    "colab": {
      "provenance": [],
      "gpuType": "T4"
    },
    "kernelspec": {
      "name": "python3",
      "display_name": "Python 3"
    },
    "language_info": {
      "name": "python"
    },
    "accelerator": "GPU"
  },
  "cells": [
    {
      "cell_type": "code",
      "source": [
        "!pip install transformers torch"
      ],
      "metadata": {
        "id": "gcwJZf0rK8Je"
      },
      "execution_count": null,
      "outputs": []
    },
    {
      "cell_type": "markdown",
      "source": [
        "Features:\n",
        "- \"ChalkSeedDiff\"        # Team1 seed - Team2 seed\n",
        "- \"ScoreDiff mean reg\"   # Team1 average score diff in regular season\n",
        "- \"FGMDiff mean reg\"     # Team1 avg FGM diff in regular season\n",
        "- \"FGM3Diff mean reg\"    # Team1 avg 3PT FGM diff in regular season\n",
        "- \"TODiff mean reg\"      # Team1 avg turnover diff in regular season\n",
        "- \"OppScore mean reg\"    # Team2 average points scored on them in regular season\n",
        "- \"OppFGM mean reg\"      # Team2 average FGM allowed\n",
        "- \"OppFGM3 mean reg\"     # Team2 average 3PT FGM allowed\n",
        "- \"OppTO mean reg\"       # Team2 average TOs forced"
      ],
      "metadata": {
        "id": "G_qJ42tfOC7u"
      }
    },
    {
      "cell_type": "code",
      "source": [],
      "metadata": {
        "id": "hr1CHTlfrAXe"
      },
      "execution_count": null,
      "outputs": []
    },
    {
      "cell_type": "code",
      "source": [
        "# Set device\n",
        "def get_device() -> str:\n",
        "    if torch.cuda.is_available():\n",
        "        return \"cuda\"\n",
        "    if torch.backends.mps.is_available():\n",
        "        return \"mps\"\n",
        "    return \"cpu\"\n",
        "\n",
        "DEVICE = get_device()\n",
        "sample_game = torch.tensor([\n",
        "    [\n",
        "        -15,\n",
        "        5.2,\n",
        "        2.1,\n",
        "        0.9,\n",
        "        1.3,\n",
        "        70.5,\n",
        "        25.4,\n",
        "        6.7,\n",
        "        12.0\n",
        "    ]\n",
        "], dtype=torch.float32).to(DEVICE)\n",
        "team_1_name = \"Team A\"\n",
        "team_2_name = \"Team B\""
      ],
      "metadata": {
        "id": "sPNbKggJOkwx",
        "outputId": "9be9500f-f07c-49cc-8192-343a9a305e19",
        "colab": {
          "base_uri": "https://localhost:8080/",
          "height": 341
        }
      },
      "execution_count": null,
      "outputs": [
        {
          "output_type": "error",
          "ename": "NameError",
          "evalue": "name 'torch' is not defined",
          "traceback": [
            "\u001b[0;31m---------------------------------------------------------------------------\u001b[0m",
            "\u001b[0;31mNameError\u001b[0m                                 Traceback (most recent call last)",
            "\u001b[0;32m<ipython-input-1-899082236f0b>\u001b[0m in \u001b[0;36m<cell line: 0>\u001b[0;34m()\u001b[0m\n\u001b[1;32m      7\u001b[0m     \u001b[0;32mreturn\u001b[0m \u001b[0;34m\"cpu\"\u001b[0m\u001b[0;34m\u001b[0m\u001b[0;34m\u001b[0m\u001b[0m\n\u001b[1;32m      8\u001b[0m \u001b[0;34m\u001b[0m\u001b[0m\n\u001b[0;32m----> 9\u001b[0;31m \u001b[0mDEVICE\u001b[0m \u001b[0;34m=\u001b[0m \u001b[0mget_device\u001b[0m\u001b[0;34m(\u001b[0m\u001b[0;34m)\u001b[0m\u001b[0;34m\u001b[0m\u001b[0;34m\u001b[0m\u001b[0m\n\u001b[0m\u001b[1;32m     10\u001b[0m sample_game = torch.tensor([\n\u001b[1;32m     11\u001b[0m     [\n",
            "\u001b[0;32m<ipython-input-1-899082236f0b>\u001b[0m in \u001b[0;36mget_device\u001b[0;34m()\u001b[0m\n\u001b[1;32m      1\u001b[0m \u001b[0;31m# Set device\u001b[0m\u001b[0;34m\u001b[0m\u001b[0;34m\u001b[0m\u001b[0m\n\u001b[1;32m      2\u001b[0m \u001b[0;32mdef\u001b[0m \u001b[0mget_device\u001b[0m\u001b[0;34m(\u001b[0m\u001b[0;34m)\u001b[0m \u001b[0;34m->\u001b[0m \u001b[0mstr\u001b[0m\u001b[0;34m:\u001b[0m\u001b[0;34m\u001b[0m\u001b[0;34m\u001b[0m\u001b[0m\n\u001b[0;32m----> 3\u001b[0;31m     \u001b[0;32mif\u001b[0m \u001b[0mtorch\u001b[0m\u001b[0;34m.\u001b[0m\u001b[0mcuda\u001b[0m\u001b[0;34m.\u001b[0m\u001b[0mis_available\u001b[0m\u001b[0;34m(\u001b[0m\u001b[0;34m)\u001b[0m\u001b[0;34m:\u001b[0m\u001b[0;34m\u001b[0m\u001b[0;34m\u001b[0m\u001b[0m\n\u001b[0m\u001b[1;32m      4\u001b[0m         \u001b[0;32mreturn\u001b[0m \u001b[0;34m\"cuda\"\u001b[0m\u001b[0;34m\u001b[0m\u001b[0;34m\u001b[0m\u001b[0m\n\u001b[1;32m      5\u001b[0m     \u001b[0;32mif\u001b[0m \u001b[0mtorch\u001b[0m\u001b[0;34m.\u001b[0m\u001b[0mbackends\u001b[0m\u001b[0;34m.\u001b[0m\u001b[0mmps\u001b[0m\u001b[0;34m.\u001b[0m\u001b[0mis_available\u001b[0m\u001b[0;34m(\u001b[0m\u001b[0;34m)\u001b[0m\u001b[0;34m:\u001b[0m\u001b[0;34m\u001b[0m\u001b[0;34m\u001b[0m\u001b[0m\n",
            "\u001b[0;31mNameError\u001b[0m: name 'torch' is not defined"
          ]
        }
      ]
    },
    {
      "cell_type": "code",
      "execution_count": null,
      "metadata": {
        "id": "IjkwF0o5FSPQ",
        "colab": {
          "base_uri": "https://localhost:8080/"
        },
        "outputId": "98f71920-19db-4f15-e261-7a2760ff9cbe"
      },
      "outputs": [
        {
          "output_type": "stream",
          "name": "stdout",
          "text": [
            "Using device: cuda\n",
            "Team A wins with a probability of 1.00\n",
            "Team B loses.\n"
          ]
        }
      ],
      "source": [
        "import torch\n",
        "import torch.nn as nn\n",
        "print(f\"Using device: {DEVICE}\")\n",
        "\n",
        "# Define model\n",
        "class NiglNN(nn.Module):\n",
        "    def __init__(self):\n",
        "        super().__init__()\n",
        "        self.activation_func = nn.Sigmoid()\n",
        "        self.layer1 = nn.Linear(9, 64)  # 9 features in input\n",
        "        self.layer2 = nn.Linear(64, 32)\n",
        "        self.layer3 = nn.Linear(32, 16)\n",
        "        self.layer4 = nn.Linear(16, 8)\n",
        "        self.layer5 = nn.Linear(8, 4)\n",
        "        self.layer6 = nn.Linear(4, 1)\n",
        "\n",
        "    def forward(self, x: torch.Tensor):\n",
        "        x = self.layer1(x)\n",
        "        x = self.activation_func(x)\n",
        "        x = self.layer2(x)\n",
        "        x = self.activation_func(x)\n",
        "        x = self.layer3(x)\n",
        "        x = self.activation_func(x)\n",
        "        x = self.layer4(x)\n",
        "        x = self.activation_func(x)\n",
        "        x = self.layer5(x)\n",
        "        x = self.activation_func(x)\n",
        "        x = self.layer6(x)\n",
        "        x = self.activation_func(x)\n",
        "        return x\n",
        "\n",
        "# Load the model\n",
        "torch.serialization.add_safe_globals({'NiglNN': NiglNN})\n",
        "model = torch.load(\"Mnn10k.pth\", map_location=\"cpu\", weights_only=False)\n",
        "model = model.to(DEVICE)\n",
        "model.eval()\n",
        "\n",
        "# Make prediction\n",
        "with torch.no_grad():\n",
        "    prediction = model(sample_game)\n",
        "    probability = prediction.item()\n",
        "if probability > 0.5:\n",
        "    print(f\"{team_1_name} wins with a probability of {probability:.2f}\")\n",
        "    print(f\"{team_2_name} loses.\")\n",
        "elif probability < 0.5:\n",
        "    print(f\"{team_2_name} wins with a probability of {1 - probability:.2f}\")\n",
        "    print(f\"{team_1_name} loses.\")\n",
        "else:\n",
        "  print(f\"No clear winner predicted for {team_1_name} and {team_2_name}\")"
      ]
    },
    {
      "cell_type": "code",
      "source": [],
      "metadata": {
        "id": "0SOImm5LMAV3"
      },
      "execution_count": null,
      "outputs": []
    }
  ]
}