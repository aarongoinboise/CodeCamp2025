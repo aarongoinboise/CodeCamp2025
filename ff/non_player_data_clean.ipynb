{
 "cells": [
  {
   "cell_type": "markdown",
   "id": "33005900-1e91-4960-99c5-727da347aac2",
   "metadata": {},
   "source": [
    "# I. Data Cleaning"
   ]
  },
  {
   "cell_type": "markdown",
   "id": "e44d451b-46c8-4ebd-a6bc-5ebc346705a4",
   "metadata": {},
   "source": [
    "### Script Imports"
   ]
  },
  {
   "cell_type": "code",
   "execution_count": 1,
   "id": "d872fc7c-0590-42d7-881a-deb2177c1397",
   "metadata": {},
   "outputs": [
    {
     "name": "stdout",
     "output_type": "stream",
     "text": [
      "Requirement already satisfied: nfl-data-py in c:\\users\\aaron\\appdata\\roaming\\jupyterlab-desktop\\jlab_server\\lib\\site-packages (0.3.3)\n",
      "Requirement already satisfied: numpy==1.26.4 in c:\\users\\aaron\\appdata\\roaming\\jupyterlab-desktop\\jlab_server\\lib\\site-packages (1.26.4)\n",
      "Requirement already satisfied: scipy==1.11.4 in c:\\users\\aaron\\appdata\\roaming\\jupyterlab-desktop\\jlab_server\\lib\\site-packages (1.11.4)\n",
      "Requirement already satisfied: scikit-learn==1.4.2 in c:\\users\\aaron\\appdata\\roaming\\jupyterlab-desktop\\jlab_server\\lib\\site-packages (1.4.2)\n",
      "Requirement already satisfied: tpot==0.12.2 in c:\\users\\aaron\\appdata\\roaming\\jupyterlab-desktop\\jlab_server\\lib\\site-packages (0.12.2)\n",
      "Requirement already satisfied: joblib>=1.2.0 in c:\\users\\aaron\\appdata\\roaming\\jupyterlab-desktop\\jlab_server\\lib\\site-packages (from scikit-learn==1.4.2) (1.4.2)\n",
      "Requirement already satisfied: threadpoolctl>=2.0.0 in c:\\users\\aaron\\appdata\\roaming\\jupyterlab-desktop\\jlab_server\\lib\\site-packages (from scikit-learn==1.4.2) (3.5.0)\n",
      "Requirement already satisfied: deap>=1.2 in c:\\users\\aaron\\appdata\\roaming\\jupyterlab-desktop\\jlab_server\\lib\\site-packages (from tpot==0.12.2) (1.4.1)\n",
      "Requirement already satisfied: update-checker>=0.16 in c:\\users\\aaron\\appdata\\roaming\\jupyterlab-desktop\\jlab_server\\lib\\site-packages (from tpot==0.12.2) (0.18.0)\n",
      "Requirement already satisfied: tqdm>=4.36.1 in c:\\users\\aaron\\appdata\\roaming\\jupyterlab-desktop\\jlab_server\\lib\\site-packages (from tpot==0.12.2) (4.66.4)\n",
      "Requirement already satisfied: stopit>=1.1.1 in c:\\users\\aaron\\appdata\\roaming\\jupyterlab-desktop\\jlab_server\\lib\\site-packages (from tpot==0.12.2) (1.1.2)\n",
      "Requirement already satisfied: pandas>=0.24.2 in c:\\users\\aaron\\appdata\\roaming\\jupyterlab-desktop\\jlab_server\\lib\\site-packages (from tpot==0.12.2) (1.5.3)\n",
      "Requirement already satisfied: xgboost>=1.1.0 in c:\\users\\aaron\\appdata\\roaming\\jupyterlab-desktop\\jlab_server\\lib\\site-packages (from tpot==0.12.2) (2.1.3)\n",
      "Requirement already satisfied: appdirs>1 in c:\\users\\aaron\\appdata\\roaming\\jupyterlab-desktop\\jlab_server\\lib\\site-packages (from nfl-data-py) (1.4.4)\n",
      "Requirement already satisfied: fastparquet>0.5 in c:\\users\\aaron\\appdata\\roaming\\jupyterlab-desktop\\jlab_server\\lib\\site-packages (from nfl-data-py) (2024.11.0)\n",
      "Requirement already satisfied: cramjam>=2.3 in c:\\users\\aaron\\appdata\\roaming\\jupyterlab-desktop\\jlab_server\\lib\\site-packages (from fastparquet>0.5->nfl-data-py) (2.9.0)\n",
      "Requirement already satisfied: fsspec in c:\\users\\aaron\\appdata\\roaming\\jupyterlab-desktop\\jlab_server\\lib\\site-packages (from fastparquet>0.5->nfl-data-py) (2024.10.0)\n",
      "Requirement already satisfied: packaging in c:\\users\\aaron\\appdata\\roaming\\jupyterlab-desktop\\jlab_server\\lib\\site-packages (from fastparquet>0.5->nfl-data-py) (24.0)\n",
      "Requirement already satisfied: python-dateutil>=2.8.1 in c:\\users\\aaron\\appdata\\roaming\\jupyterlab-desktop\\jlab_server\\lib\\site-packages (from pandas>=0.24.2->tpot==0.12.2) (2.9.0)\n",
      "Requirement already satisfied: pytz>=2020.1 in c:\\users\\aaron\\appdata\\roaming\\jupyterlab-desktop\\jlab_server\\lib\\site-packages (from pandas>=0.24.2->tpot==0.12.2) (2024.1)\n",
      "Requirement already satisfied: colorama in c:\\users\\aaron\\appdata\\roaming\\jupyterlab-desktop\\jlab_server\\lib\\site-packages (from tqdm>=4.36.1->tpot==0.12.2) (0.4.6)\n",
      "Requirement already satisfied: requests>=2.3.0 in c:\\users\\aaron\\appdata\\roaming\\jupyterlab-desktop\\jlab_server\\lib\\site-packages (from update-checker>=0.16->tpot==0.12.2) (2.32.2)\n",
      "Requirement already satisfied: six>=1.5 in c:\\users\\aaron\\appdata\\roaming\\jupyterlab-desktop\\jlab_server\\lib\\site-packages (from python-dateutil>=2.8.1->pandas>=0.24.2->tpot==0.12.2) (1.16.0)\n",
      "Requirement already satisfied: charset-normalizer<4,>=2 in c:\\users\\aaron\\appdata\\roaming\\jupyterlab-desktop\\jlab_server\\lib\\site-packages (from requests>=2.3.0->update-checker>=0.16->tpot==0.12.2) (3.3.2)\n",
      "Requirement already satisfied: idna<4,>=2.5 in c:\\users\\aaron\\appdata\\roaming\\jupyterlab-desktop\\jlab_server\\lib\\site-packages (from requests>=2.3.0->update-checker>=0.16->tpot==0.12.2) (3.7)\n",
      "Requirement already satisfied: urllib3<3,>=1.21.1 in c:\\users\\aaron\\appdata\\roaming\\jupyterlab-desktop\\jlab_server\\lib\\site-packages (from requests>=2.3.0->update-checker>=0.16->tpot==0.12.2) (2.2.1)\n",
      "Requirement already satisfied: certifi>=2017.4.17 in c:\\users\\aaron\\appdata\\roaming\\jupyterlab-desktop\\jlab_server\\lib\\site-packages (from requests>=2.3.0->update-checker>=0.16->tpot==0.12.2) (2024.2.2)\n"
     ]
    }
   ],
   "source": [
    "!pip install nfl-data-py numpy==1.26.4 scipy==1.11.4 scikit-learn==1.4.2 tpot==0.12.2"
   ]
  },
  {
   "cell_type": "code",
   "execution_count": 6,
   "id": "a1fb855d-54ba-443e-aa42-b3d32b534074",
   "metadata": {},
   "outputs": [
    {
     "name": "stdout",
     "output_type": "stream",
     "text": [
      "Python 3.12.3\n"
     ]
    }
   ],
   "source": [
    "!python --version"
   ]
  },
  {
   "cell_type": "code",
   "execution_count": 7,
   "id": "b25ed2c8-ee35-4272-b13e-949b7fe2719d",
   "metadata": {},
   "outputs": [],
   "source": [
    "import sys\n",
    "sys.path.extend(['./extras', './weekly', './models', './utils'])\n",
    "import pandas as pd\n",
    "from coach import get_coaches\n",
    "from down_stats import get_down_stats\n",
    "from game import get_game_data\n",
    "from line import get_line_rank"
   ]
  },
  {
   "cell_type": "markdown",
   "id": "ee7ce583-e402-4389-bfcc-374c49a7f0d2",
   "metadata": {},
   "source": [
    "### Get Data from Extras"
   ]
  },
  {
   "cell_type": "code",
   "execution_count": 3,
   "id": "f3675255-0b82-424f-9e5d-74f710660d0c",
   "metadata": {},
   "outputs": [],
   "source": [
    "f_before_2024 = pd.concat([get_coaches(year) for year in range(2022, 2024)], ignore_index=True)\n",
    "f_2024 = get_coaches(2024)\n",
    "f_before_2024.rename(columns={'Tm': 'Team'}, inplace=True)\n",
    "f_2024.rename(columns={'Tm': 'Team'}, inplace=True)\n",
    "down_before_2024 = pd.concat([get_down_stats(year) for year in range(2022, 2024)], ignore_index=True)\n",
    "down_2024 = get_down_stats(2024)\n",
    "game_before_2024 = pd.concat([get_game_data(year) for year in range(2022, 2024)], ignore_index=True)\n",
    "game_before_2024 = game_before_2024.drop_duplicates(subset=['year', 'week', 'team'], keep='first')\n",
    "game_2024 = get_game_data(2024)\n",
    "game_before_2024.rename(columns={'team': 'Team'}, inplace=True)\n",
    "game_2024.rename(columns={'team': 'Team'}, inplace=True)\n",
    "line_before_2024 = pd.concat([get_line_rank(2022), get_line_rank(2023)], ignore_index=True)\n",
    "line_2024 = get_line_rank(2024)"
   ]
  },
  {
   "cell_type": "code",
   "execution_count": 4,
   "id": "8d24ff27-c13c-41e2-a4cd-5d2feffef9e8",
   "metadata": {},
   "outputs": [
    {
     "data": {
      "text/html": [
       "<div>\n",
       "<style scoped>\n",
       "    .dataframe tbody tr th:only-of-type {\n",
       "        vertical-align: middle;\n",
       "    }\n",
       "\n",
       "    .dataframe tbody tr th {\n",
       "        vertical-align: top;\n",
       "    }\n",
       "\n",
       "    .dataframe thead th {\n",
       "        text-align: right;\n",
       "    }\n",
       "</style>\n",
       "<table border=\"1\" class=\"dataframe\">\n",
       "  <thead>\n",
       "    <tr style=\"text-align: right;\">\n",
       "      <th></th>\n",
       "      <th>year</th>\n",
       "      <th>Team</th>\n",
       "      <th>oline_rank</th>\n",
       "      <th>dline_rank</th>\n",
       "    </tr>\n",
       "  </thead>\n",
       "  <tbody>\n",
       "  </tbody>\n",
       "</table>\n",
       "</div>"
      ],
      "text/plain": [
       "Empty DataFrame\n",
       "Columns: [year, Team, oline_rank, dline_rank]\n",
       "Index: []"
      ]
     },
     "execution_count": 4,
     "metadata": {},
     "output_type": "execute_result"
    }
   ],
   "source": [
    "line_before_2024[line_before_2024.isna().any(axis=1)]"
   ]
  },
  {
   "cell_type": "code",
   "execution_count": 19,
   "id": "934adccc-7b01-4bdc-8a48-76c48863d121",
   "metadata": {},
   "outputs": [
    {
     "data": {
      "text/html": [
       "<div>\n",
       "<style scoped>\n",
       "    .dataframe tbody tr th:only-of-type {\n",
       "        vertical-align: middle;\n",
       "    }\n",
       "\n",
       "    .dataframe tbody tr th {\n",
       "        vertical-align: top;\n",
       "    }\n",
       "\n",
       "    .dataframe thead th {\n",
       "        text-align: right;\n",
       "    }\n",
       "</style>\n",
       "<table border=\"1\" class=\"dataframe\">\n",
       "  <thead>\n",
       "    <tr style=\"text-align: right;\">\n",
       "      <th></th>\n",
       "      <th>year</th>\n",
       "      <th>Team</th>\n",
       "      <th>oline_rank</th>\n",
       "      <th>dline_rank</th>\n",
       "    </tr>\n",
       "  </thead>\n",
       "  <tbody>\n",
       "  </tbody>\n",
       "</table>\n",
       "</div>"
      ],
      "text/plain": [
       "Empty DataFrame\n",
       "Columns: [year, Team, oline_rank, dline_rank]\n",
       "Index: []"
      ]
     },
     "execution_count": 19,
     "metadata": {},
     "output_type": "execute_result"
    }
   ],
   "source": [
    "line_2024[line_2024.isna().any(axis=1)]"
   ]
  },
  {
   "cell_type": "markdown",
   "id": "22e10729-76e0-4433-8833-7dd80591d239",
   "metadata": {},
   "source": [
    "### Merge coaches and down stats"
   ]
  },
  {
   "cell_type": "code",
   "execution_count": 20,
   "id": "2beef9b3-0e41-46d0-962f-105800b85518",
   "metadata": {},
   "outputs": [
    {
     "data": {
      "text/plain": [
       "(Index(['year', 'week', 'Team', 'Coach', 'G-season', 'W-season', 'L-season',\n",
       "        'T-season', 'G-w/team', 'W-w/team', 'L-w/team', 'T-w/team', 'G-career',\n",
       "        'W-career', 'L-career', 'T-career', 'G plyf-playoffs',\n",
       "        'W plyf-playoffs', 'L plyf-playoffs', 'G plyf-w/team', 'W plyf-w/team',\n",
       "        'L plyf-w/team', 'G plyf-career', 'W plyf-career', 'L plyf-career',\n",
       "        'Remark', 'w/same_team'],\n",
       "       dtype='object'),\n",
       " Index(['Team', 'Gms-fds', 'Rush-fds', 'Pass-fds', 'Pen-fds', 'Pct-tde',\n",
       "        'Pct-fde', 'year'],\n",
       "       dtype='object'))"
      ]
     },
     "execution_count": 20,
     "metadata": {},
     "output_type": "execute_result"
    }
   ],
   "source": [
    "f_before_2024.columns, down_before_2024.columns"
   ]
  },
  {
   "cell_type": "code",
   "execution_count": 21,
   "id": "832110cf-8b7d-4565-b2dc-dc3591dd9343",
   "metadata": {},
   "outputs": [
    {
     "name": "stdout",
     "output_type": "stream",
     "text": [
      "Empty DataFrame\n",
      "Columns: [year, week, Team, Coach, G-season, W-season, L-season, T-season, G-w/team, W-w/team, L-w/team, T-w/team, G-career, W-career, L-career, T-career, G plyf-playoffs, W plyf-playoffs, L plyf-playoffs, G plyf-w/team, W plyf-w/team, L plyf-w/team, G plyf-career, W plyf-career, L plyf-career, Remark, w/same_team, Gms-fds, Rush-fds, Pass-fds, Pen-fds, Pct-tde, Pct-fde]\n",
      "Index: []\n",
      "\n",
      "[0 rows x 33 columns]\n"
     ]
    },
    {
     "data": {
      "text/html": [
       "<div>\n",
       "<style scoped>\n",
       "    .dataframe tbody tr th:only-of-type {\n",
       "        vertical-align: middle;\n",
       "    }\n",
       "\n",
       "    .dataframe tbody tr th {\n",
       "        vertical-align: top;\n",
       "    }\n",
       "\n",
       "    .dataframe thead th {\n",
       "        text-align: right;\n",
       "    }\n",
       "</style>\n",
       "<table border=\"1\" class=\"dataframe\">\n",
       "  <thead>\n",
       "    <tr style=\"text-align: right;\">\n",
       "      <th></th>\n",
       "      <th>year</th>\n",
       "      <th>week</th>\n",
       "      <th>Team</th>\n",
       "      <th>Coach</th>\n",
       "      <th>G-season</th>\n",
       "      <th>W-season</th>\n",
       "      <th>L-season</th>\n",
       "      <th>T-season</th>\n",
       "      <th>G-w/team</th>\n",
       "      <th>W-w/team</th>\n",
       "      <th>...</th>\n",
       "      <th>W plyf-career</th>\n",
       "      <th>L plyf-career</th>\n",
       "      <th>Remark</th>\n",
       "      <th>w/same_team</th>\n",
       "      <th>Gms-fds</th>\n",
       "      <th>Rush-fds</th>\n",
       "      <th>Pass-fds</th>\n",
       "      <th>Pen-fds</th>\n",
       "      <th>Pct-tde</th>\n",
       "      <th>Pct-fde</th>\n",
       "    </tr>\n",
       "  </thead>\n",
       "  <tbody>\n",
       "  </tbody>\n",
       "</table>\n",
       "<p>0 rows × 33 columns</p>\n",
       "</div>"
      ],
      "text/plain": [
       "Empty DataFrame\n",
       "Columns: [year, week, Team, Coach, G-season, W-season, L-season, T-season, G-w/team, W-w/team, L-w/team, T-w/team, G-career, W-career, L-career, T-career, G plyf-playoffs, W plyf-playoffs, L plyf-playoffs, G plyf-w/team, W plyf-w/team, L plyf-w/team, G plyf-career, W plyf-career, L plyf-career, Remark, w/same_team, Gms-fds, Rush-fds, Pass-fds, Pen-fds, Pct-tde, Pct-fde]\n",
       "Index: []\n",
       "\n",
       "[0 rows x 33 columns]"
      ]
     },
     "execution_count": 21,
     "metadata": {},
     "output_type": "execute_result"
    }
   ],
   "source": [
    "f_before_2024 = pd.merge(f_before_2024, down_before_2024, on=['year', 'Team'], how='inner')\n",
    "f_2024 = pd.merge(f_2024, down_2024, on=['year', 'Team'], how='inner')\n",
    "print(f_before_2024[f_before_2024.isna().any(axis=1)])\n",
    "f_2024[f_2024.isna().any(axis=1)]"
   ]
  },
  {
   "cell_type": "code",
   "execution_count": 22,
   "id": "dd884299-5d9e-4761-9063-083c813cb890",
   "metadata": {},
   "outputs": [
    {
     "data": {
      "text/html": [
       "<div>\n",
       "<style scoped>\n",
       "    .dataframe tbody tr th:only-of-type {\n",
       "        vertical-align: middle;\n",
       "    }\n",
       "\n",
       "    .dataframe tbody tr th {\n",
       "        vertical-align: top;\n",
       "    }\n",
       "\n",
       "    .dataframe thead th {\n",
       "        text-align: right;\n",
       "    }\n",
       "</style>\n",
       "<table border=\"1\" class=\"dataframe\">\n",
       "  <thead>\n",
       "    <tr style=\"text-align: right;\">\n",
       "      <th></th>\n",
       "      <th>year</th>\n",
       "      <th>week</th>\n",
       "      <th>Team</th>\n",
       "      <th>Coach</th>\n",
       "      <th>G-season</th>\n",
       "      <th>W-season</th>\n",
       "      <th>L-season</th>\n",
       "      <th>T-season</th>\n",
       "      <th>G-w/team</th>\n",
       "      <th>W-w/team</th>\n",
       "      <th>...</th>\n",
       "      <th>W plyf-career</th>\n",
       "      <th>L plyf-career</th>\n",
       "      <th>Remark</th>\n",
       "      <th>w/same_team</th>\n",
       "      <th>Gms-fds</th>\n",
       "      <th>Rush-fds</th>\n",
       "      <th>Pass-fds</th>\n",
       "      <th>Pen-fds</th>\n",
       "      <th>Pct-tde</th>\n",
       "      <th>Pct-fde</th>\n",
       "    </tr>\n",
       "  </thead>\n",
       "  <tbody>\n",
       "  </tbody>\n",
       "</table>\n",
       "<p>0 rows × 33 columns</p>\n",
       "</div>"
      ],
      "text/plain": [
       "Empty DataFrame\n",
       "Columns: [year, week, Team, Coach, G-season, W-season, L-season, T-season, G-w/team, W-w/team, L-w/team, T-w/team, G-career, W-career, L-career, T-career, G plyf-playoffs, W plyf-playoffs, L plyf-playoffs, G plyf-w/team, W plyf-w/team, L plyf-w/team, G plyf-career, W plyf-career, L plyf-career, Remark, w/same_team, Gms-fds, Rush-fds, Pass-fds, Pen-fds, Pct-tde, Pct-fde]\n",
       "Index: []\n",
       "\n",
       "[0 rows x 33 columns]"
      ]
     },
     "execution_count": 22,
     "metadata": {},
     "output_type": "execute_result"
    }
   ],
   "source": [
    "duplicates = f_2024[f_2024.duplicated(subset=['year', 'Coach', 'week', 'Team'], keep=False)]\n",
    "duplicates"
   ]
  },
  {
   "cell_type": "markdown",
   "id": "52dd9896-01e6-4113-836c-491dd1735e6b",
   "metadata": {},
   "source": [
    "### Merge game"
   ]
  },
  {
   "cell_type": "code",
   "execution_count": 23,
   "id": "86613755-61a5-4c6c-8e19-42bbe9f1f566",
   "metadata": {},
   "outputs": [
    {
     "data": {
      "text/html": [
       "<div>\n",
       "<style scoped>\n",
       "    .dataframe tbody tr th:only-of-type {\n",
       "        vertical-align: middle;\n",
       "    }\n",
       "\n",
       "    .dataframe tbody tr th {\n",
       "        vertical-align: top;\n",
       "    }\n",
       "\n",
       "    .dataframe thead th {\n",
       "        text-align: right;\n",
       "    }\n",
       "</style>\n",
       "<table border=\"1\" class=\"dataframe\">\n",
       "  <thead>\n",
       "    <tr style=\"text-align: right;\">\n",
       "      <th></th>\n",
       "      <th>year</th>\n",
       "      <th>week</th>\n",
       "      <th>Team</th>\n",
       "      <th>gameday</th>\n",
       "      <th>weekday</th>\n",
       "      <th>gametime</th>\n",
       "      <th>away_team</th>\n",
       "      <th>home_team</th>\n",
       "      <th>away_moneyline</th>\n",
       "      <th>home_moneyline</th>\n",
       "      <th>...</th>\n",
       "      <th>under_odds</th>\n",
       "      <th>over_odds</th>\n",
       "      <th>div_game</th>\n",
       "      <th>roof</th>\n",
       "      <th>surface</th>\n",
       "      <th>temp</th>\n",
       "      <th>wind</th>\n",
       "      <th>referee</th>\n",
       "      <th>stadium</th>\n",
       "      <th>bye_week</th>\n",
       "    </tr>\n",
       "  </thead>\n",
       "  <tbody>\n",
       "  </tbody>\n",
       "</table>\n",
       "<p>0 rows × 24 columns</p>\n",
       "</div>"
      ],
      "text/plain": [
       "Empty DataFrame\n",
       "Columns: [year, week, Team, gameday, weekday, gametime, away_team, home_team, away_moneyline, home_moneyline, spread_line, away_spread_odds, home_spread_odds, total_line, under_odds, over_odds, div_game, roof, surface, temp, wind, referee, stadium, bye_week]\n",
       "Index: []\n",
       "\n",
       "[0 rows x 24 columns]"
      ]
     },
     "execution_count": 23,
     "metadata": {},
     "output_type": "execute_result"
    }
   ],
   "source": [
    "duplicates = game_2024[game_2024.duplicated(subset=['year', 'week', 'Team'], keep=False)]\n",
    "duplicates"
   ]
  },
  {
   "cell_type": "code",
   "execution_count": 24,
   "id": "29491e95",
   "metadata": {},
   "outputs": [
    {
     "data": {
      "text/plain": [
       "(Index(['year', 'week', 'Team', 'Coach', 'G-season', 'W-season', 'L-season',\n",
       "        'T-season', 'G-w/team', 'W-w/team', 'L-w/team', 'T-w/team', 'G-career',\n",
       "        'W-career', 'L-career', 'T-career', 'G plyf-playoffs',\n",
       "        'W plyf-playoffs', 'L plyf-playoffs', 'G plyf-w/team', 'W plyf-w/team',\n",
       "        'L plyf-w/team', 'G plyf-career', 'W plyf-career', 'L plyf-career',\n",
       "        'Remark', 'w/same_team', 'Gms-fds', 'Rush-fds', 'Pass-fds', 'Pen-fds',\n",
       "        'Pct-tde', 'Pct-fde'],\n",
       "       dtype='object'),\n",
       " Index(['year', 'week', 'Team', 'gameday', 'weekday', 'gametime', 'away_team',\n",
       "        'home_team', 'away_moneyline', 'home_moneyline', 'spread_line',\n",
       "        'away_spread_odds', 'home_spread_odds', 'total_line', 'under_odds',\n",
       "        'over_odds', 'div_game', 'roof', 'surface', 'temp', 'wind', 'referee',\n",
       "        'stadium', 'bye_week'],\n",
       "       dtype='object'))"
      ]
     },
     "execution_count": 24,
     "metadata": {},
     "output_type": "execute_result"
    }
   ],
   "source": [
    "f_2024.columns, game_2024.columns"
   ]
  },
  {
   "cell_type": "code",
   "execution_count": 25,
   "id": "d034d9b7-771d-4463-b97f-bde21aecc011",
   "metadata": {},
   "outputs": [
    {
     "name": "stdout",
     "output_type": "stream",
     "text": [
      "Empty DataFrame\n",
      "Columns: [year, week, Team, Coach, G-season, W-season, L-season, T-season, G-w/team, W-w/team, L-w/team, T-w/team, G-career, W-career, L-career, T-career, G plyf-playoffs, W plyf-playoffs, L plyf-playoffs, G plyf-w/team, W plyf-w/team, L plyf-w/team, G plyf-career, W plyf-career, L plyf-career, Remark, w/same_team, Gms-fds, Rush-fds, Pass-fds, Pen-fds, Pct-tde, Pct-fde, gameday, weekday, gametime, away_team, home_team, away_moneyline, home_moneyline, spread_line, away_spread_odds, home_spread_odds, total_line, under_odds, over_odds, div_game, roof, surface, temp, wind, referee, stadium, bye_week]\n",
      "Index: []\n",
      "\n",
      "[0 rows x 54 columns]\n"
     ]
    },
    {
     "data": {
      "text/html": [
       "<div>\n",
       "<style scoped>\n",
       "    .dataframe tbody tr th:only-of-type {\n",
       "        vertical-align: middle;\n",
       "    }\n",
       "\n",
       "    .dataframe tbody tr th {\n",
       "        vertical-align: top;\n",
       "    }\n",
       "\n",
       "    .dataframe thead th {\n",
       "        text-align: right;\n",
       "    }\n",
       "</style>\n",
       "<table border=\"1\" class=\"dataframe\">\n",
       "  <thead>\n",
       "    <tr style=\"text-align: right;\">\n",
       "      <th></th>\n",
       "      <th>year</th>\n",
       "      <th>week</th>\n",
       "      <th>Team</th>\n",
       "      <th>Coach</th>\n",
       "      <th>G-season</th>\n",
       "      <th>W-season</th>\n",
       "      <th>L-season</th>\n",
       "      <th>T-season</th>\n",
       "      <th>G-w/team</th>\n",
       "      <th>W-w/team</th>\n",
       "      <th>...</th>\n",
       "      <th>under_odds</th>\n",
       "      <th>over_odds</th>\n",
       "      <th>div_game</th>\n",
       "      <th>roof</th>\n",
       "      <th>surface</th>\n",
       "      <th>temp</th>\n",
       "      <th>wind</th>\n",
       "      <th>referee</th>\n",
       "      <th>stadium</th>\n",
       "      <th>bye_week</th>\n",
       "    </tr>\n",
       "  </thead>\n",
       "  <tbody>\n",
       "  </tbody>\n",
       "</table>\n",
       "<p>0 rows × 54 columns</p>\n",
       "</div>"
      ],
      "text/plain": [
       "Empty DataFrame\n",
       "Columns: [year, week, Team, Coach, G-season, W-season, L-season, T-season, G-w/team, W-w/team, L-w/team, T-w/team, G-career, W-career, L-career, T-career, G plyf-playoffs, W plyf-playoffs, L plyf-playoffs, G plyf-w/team, W plyf-w/team, L plyf-w/team, G plyf-career, W plyf-career, L plyf-career, Remark, w/same_team, Gms-fds, Rush-fds, Pass-fds, Pen-fds, Pct-tde, Pct-fde, gameday, weekday, gametime, away_team, home_team, away_moneyline, home_moneyline, spread_line, away_spread_odds, home_spread_odds, total_line, under_odds, over_odds, div_game, roof, surface, temp, wind, referee, stadium, bye_week]\n",
       "Index: []\n",
       "\n",
       "[0 rows x 54 columns]"
      ]
     },
     "execution_count": 25,
     "metadata": {},
     "output_type": "execute_result"
    }
   ],
   "source": [
    "f_before_2024 = pd.merge(f_before_2024, game_before_2024, on=['year', 'week', 'Team'], how='inner')\n",
    "f_2024 = pd.merge(f_2024, game_2024, on=['year', 'week', 'Team'], how='inner')\n",
    "print(f_before_2024[f_before_2024.isna().any(axis=1)])\n",
    "f_2024[f_2024.isna().any(axis=1)]"
   ]
  },
  {
   "cell_type": "code",
   "execution_count": 26,
   "id": "1446e9fb-8919-4252-a93c-e8b1eb3a95b7",
   "metadata": {},
   "outputs": [
    {
     "data": {
      "text/html": [
       "<div>\n",
       "<style scoped>\n",
       "    .dataframe tbody tr th:only-of-type {\n",
       "        vertical-align: middle;\n",
       "    }\n",
       "\n",
       "    .dataframe tbody tr th {\n",
       "        vertical-align: top;\n",
       "    }\n",
       "\n",
       "    .dataframe thead th {\n",
       "        text-align: right;\n",
       "    }\n",
       "</style>\n",
       "<table border=\"1\" class=\"dataframe\">\n",
       "  <thead>\n",
       "    <tr style=\"text-align: right;\">\n",
       "      <th></th>\n",
       "      <th>year</th>\n",
       "      <th>week</th>\n",
       "      <th>Team</th>\n",
       "      <th>Coach</th>\n",
       "      <th>G-season</th>\n",
       "      <th>W-season</th>\n",
       "      <th>L-season</th>\n",
       "      <th>T-season</th>\n",
       "      <th>G-w/team</th>\n",
       "      <th>W-w/team</th>\n",
       "      <th>...</th>\n",
       "      <th>under_odds</th>\n",
       "      <th>over_odds</th>\n",
       "      <th>div_game</th>\n",
       "      <th>roof</th>\n",
       "      <th>surface</th>\n",
       "      <th>temp</th>\n",
       "      <th>wind</th>\n",
       "      <th>referee</th>\n",
       "      <th>stadium</th>\n",
       "      <th>bye_week</th>\n",
       "    </tr>\n",
       "  </thead>\n",
       "  <tbody>\n",
       "  </tbody>\n",
       "</table>\n",
       "<p>0 rows × 54 columns</p>\n",
       "</div>"
      ],
      "text/plain": [
       "Empty DataFrame\n",
       "Columns: [year, week, Team, Coach, G-season, W-season, L-season, T-season, G-w/team, W-w/team, L-w/team, T-w/team, G-career, W-career, L-career, T-career, G plyf-playoffs, W plyf-playoffs, L plyf-playoffs, G plyf-w/team, W plyf-w/team, L plyf-w/team, G plyf-career, W plyf-career, L plyf-career, Remark, w/same_team, Gms-fds, Rush-fds, Pass-fds, Pen-fds, Pct-tde, Pct-fde, gameday, weekday, gametime, away_team, home_team, away_moneyline, home_moneyline, spread_line, away_spread_odds, home_spread_odds, total_line, under_odds, over_odds, div_game, roof, surface, temp, wind, referee, stadium, bye_week]\n",
       "Index: []\n",
       "\n",
       "[0 rows x 54 columns]"
      ]
     },
     "execution_count": 26,
     "metadata": {},
     "output_type": "execute_result"
    }
   ],
   "source": [
    "duplicates = f_before_2024[f_before_2024.duplicated(subset=['year', 'Coach', 'week', 'Team'], keep=False)]\n",
    "duplicates"
   ]
  },
  {
   "cell_type": "markdown",
   "id": "bd2fd22f-31b9-46ec-8526-e173ab86c7f7",
   "metadata": {},
   "source": [
    "### Merge Line"
   ]
  },
  {
   "cell_type": "code",
   "execution_count": 27,
   "id": "82415a0f-531b-49e0-a029-ab7e59d9ae79",
   "metadata": {},
   "outputs": [
    {
     "data": {
      "text/plain": [
       "(Index(['year', 'week', 'Team', 'Coach', 'G-season', 'W-season', 'L-season',\n",
       "        'T-season', 'G-w/team', 'W-w/team', 'L-w/team', 'T-w/team', 'G-career',\n",
       "        'W-career', 'L-career', 'T-career', 'G plyf-playoffs',\n",
       "        'W plyf-playoffs', 'L plyf-playoffs', 'G plyf-w/team', 'W plyf-w/team',\n",
       "        'L plyf-w/team', 'G plyf-career', 'W plyf-career', 'L plyf-career',\n",
       "        'Remark', 'w/same_team', 'Gms-fds', 'Rush-fds', 'Pass-fds', 'Pen-fds',\n",
       "        'Pct-tde', 'Pct-fde', 'gameday', 'weekday', 'gametime', 'away_team',\n",
       "        'home_team', 'away_moneyline', 'home_moneyline', 'spread_line',\n",
       "        'away_spread_odds', 'home_spread_odds', 'total_line', 'under_odds',\n",
       "        'over_odds', 'div_game', 'roof', 'surface', 'temp', 'wind', 'referee',\n",
       "        'stadium', 'bye_week'],\n",
       "       dtype='object'),\n",
       " Index(['year', 'Team', 'oline_rank', 'dline_rank'], dtype='object'))"
      ]
     },
     "execution_count": 27,
     "metadata": {},
     "output_type": "execute_result"
    }
   ],
   "source": [
    "f_2024.columns, line_2024.columns"
   ]
  },
  {
   "cell_type": "code",
   "execution_count": 28,
   "id": "133d1824-1392-4818-b12e-156d798cfc14",
   "metadata": {},
   "outputs": [
    {
     "name": "stdout",
     "output_type": "stream",
     "text": [
      "Empty DataFrame\n",
      "Columns: [year, week, Team, Coach, G-season, W-season, L-season, T-season, G-w/team, W-w/team, L-w/team, T-w/team, G-career, W-career, L-career, T-career, G plyf-playoffs, W plyf-playoffs, L plyf-playoffs, G plyf-w/team, W plyf-w/team, L plyf-w/team, G plyf-career, W plyf-career, L plyf-career, Remark, w/same_team, Gms-fds, Rush-fds, Pass-fds, Pen-fds, Pct-tde, Pct-fde, gameday, weekday, gametime, away_team, home_team, away_moneyline, home_moneyline, spread_line, away_spread_odds, home_spread_odds, total_line, under_odds, over_odds, div_game, roof, surface, temp, wind, referee, stadium, bye_week, oline_rank, dline_rank]\n",
      "Index: []\n",
      "\n",
      "[0 rows x 56 columns]\n"
     ]
    },
    {
     "data": {
      "text/html": [
       "<div>\n",
       "<style scoped>\n",
       "    .dataframe tbody tr th:only-of-type {\n",
       "        vertical-align: middle;\n",
       "    }\n",
       "\n",
       "    .dataframe tbody tr th {\n",
       "        vertical-align: top;\n",
       "    }\n",
       "\n",
       "    .dataframe thead th {\n",
       "        text-align: right;\n",
       "    }\n",
       "</style>\n",
       "<table border=\"1\" class=\"dataframe\">\n",
       "  <thead>\n",
       "    <tr style=\"text-align: right;\">\n",
       "      <th></th>\n",
       "      <th>year</th>\n",
       "      <th>week</th>\n",
       "      <th>Team</th>\n",
       "      <th>Coach</th>\n",
       "      <th>G-season</th>\n",
       "      <th>W-season</th>\n",
       "      <th>L-season</th>\n",
       "      <th>T-season</th>\n",
       "      <th>G-w/team</th>\n",
       "      <th>W-w/team</th>\n",
       "      <th>...</th>\n",
       "      <th>div_game</th>\n",
       "      <th>roof</th>\n",
       "      <th>surface</th>\n",
       "      <th>temp</th>\n",
       "      <th>wind</th>\n",
       "      <th>referee</th>\n",
       "      <th>stadium</th>\n",
       "      <th>bye_week</th>\n",
       "      <th>oline_rank</th>\n",
       "      <th>dline_rank</th>\n",
       "    </tr>\n",
       "  </thead>\n",
       "  <tbody>\n",
       "  </tbody>\n",
       "</table>\n",
       "<p>0 rows × 56 columns</p>\n",
       "</div>"
      ],
      "text/plain": [
       "Empty DataFrame\n",
       "Columns: [year, week, Team, Coach, G-season, W-season, L-season, T-season, G-w/team, W-w/team, L-w/team, T-w/team, G-career, W-career, L-career, T-career, G plyf-playoffs, W plyf-playoffs, L plyf-playoffs, G plyf-w/team, W plyf-w/team, L plyf-w/team, G plyf-career, W plyf-career, L plyf-career, Remark, w/same_team, Gms-fds, Rush-fds, Pass-fds, Pen-fds, Pct-tde, Pct-fde, gameday, weekday, gametime, away_team, home_team, away_moneyline, home_moneyline, spread_line, away_spread_odds, home_spread_odds, total_line, under_odds, over_odds, div_game, roof, surface, temp, wind, referee, stadium, bye_week, oline_rank, dline_rank]\n",
       "Index: []\n",
       "\n",
       "[0 rows x 56 columns]"
      ]
     },
     "execution_count": 28,
     "metadata": {},
     "output_type": "execute_result"
    }
   ],
   "source": [
    "f_before_2024 = pd.merge(f_before_2024, line_before_2024, on=['year', 'Team'], how='inner')\n",
    "f_2024 = pd.merge(f_2024, line_2024, on=['year', 'Team'], how='inner')\n",
    "print(f_before_2024[f_before_2024.isna().any(axis=1)])\n",
    "f_2024[f_2024.isna().any(axis=1)]"
   ]
  },
  {
   "cell_type": "code",
   "execution_count": 30,
   "id": "f7bc666b-d35d-45e2-821a-2563e3a96ef3",
   "metadata": {},
   "outputs": [
    {
     "data": {
      "text/html": [
       "<div>\n",
       "<style scoped>\n",
       "    .dataframe tbody tr th:only-of-type {\n",
       "        vertical-align: middle;\n",
       "    }\n",
       "\n",
       "    .dataframe tbody tr th {\n",
       "        vertical-align: top;\n",
       "    }\n",
       "\n",
       "    .dataframe thead th {\n",
       "        text-align: right;\n",
       "    }\n",
       "</style>\n",
       "<table border=\"1\" class=\"dataframe\">\n",
       "  <thead>\n",
       "    <tr style=\"text-align: right;\">\n",
       "      <th></th>\n",
       "      <th>year</th>\n",
       "      <th>week</th>\n",
       "      <th>Team</th>\n",
       "      <th>Coach</th>\n",
       "      <th>G-season</th>\n",
       "      <th>W-season</th>\n",
       "      <th>L-season</th>\n",
       "      <th>T-season</th>\n",
       "      <th>G-w/team</th>\n",
       "      <th>W-w/team</th>\n",
       "      <th>...</th>\n",
       "      <th>div_game</th>\n",
       "      <th>roof</th>\n",
       "      <th>surface</th>\n",
       "      <th>temp</th>\n",
       "      <th>wind</th>\n",
       "      <th>referee</th>\n",
       "      <th>stadium</th>\n",
       "      <th>bye_week</th>\n",
       "      <th>oline_rank</th>\n",
       "      <th>dline_rank</th>\n",
       "    </tr>\n",
       "  </thead>\n",
       "  <tbody>\n",
       "  </tbody>\n",
       "</table>\n",
       "<p>0 rows × 56 columns</p>\n",
       "</div>"
      ],
      "text/plain": [
       "Empty DataFrame\n",
       "Columns: [year, week, Team, Coach, G-season, W-season, L-season, T-season, G-w/team, W-w/team, L-w/team, T-w/team, G-career, W-career, L-career, T-career, G plyf-playoffs, W plyf-playoffs, L plyf-playoffs, G plyf-w/team, W plyf-w/team, L plyf-w/team, G plyf-career, W plyf-career, L plyf-career, Remark, w/same_team, Gms-fds, Rush-fds, Pass-fds, Pen-fds, Pct-tde, Pct-fde, gameday, weekday, gametime, away_team, home_team, away_moneyline, home_moneyline, spread_line, away_spread_odds, home_spread_odds, total_line, under_odds, over_odds, div_game, roof, surface, temp, wind, referee, stadium, bye_week, oline_rank, dline_rank]\n",
       "Index: []\n",
       "\n",
       "[0 rows x 56 columns]"
      ]
     },
     "execution_count": 30,
     "metadata": {},
     "output_type": "execute_result"
    }
   ],
   "source": [
    "duplicates = f_before_2024[f_before_2024.duplicated(subset=['year', 'Coach', 'week', 'Team'], keep=False)]\n",
    "duplicates"
   ]
  },
  {
   "cell_type": "code",
   "execution_count": 31,
   "id": "f5400b7c-05af-4c6a-82c5-1412990303df",
   "metadata": {},
   "outputs": [
    {
     "data": {
      "text/html": [
       "<div>\n",
       "<style scoped>\n",
       "    .dataframe tbody tr th:only-of-type {\n",
       "        vertical-align: middle;\n",
       "    }\n",
       "\n",
       "    .dataframe tbody tr th {\n",
       "        vertical-align: top;\n",
       "    }\n",
       "\n",
       "    .dataframe thead th {\n",
       "        text-align: right;\n",
       "    }\n",
       "</style>\n",
       "<table border=\"1\" class=\"dataframe\">\n",
       "  <thead>\n",
       "    <tr style=\"text-align: right;\">\n",
       "      <th></th>\n",
       "      <th>year</th>\n",
       "      <th>week</th>\n",
       "      <th>Team</th>\n",
       "      <th>Coach</th>\n",
       "      <th>G-season</th>\n",
       "      <th>W-season</th>\n",
       "      <th>L-season</th>\n",
       "      <th>T-season</th>\n",
       "      <th>G-w/team</th>\n",
       "      <th>W-w/team</th>\n",
       "      <th>...</th>\n",
       "      <th>div_game</th>\n",
       "      <th>roof</th>\n",
       "      <th>surface</th>\n",
       "      <th>temp</th>\n",
       "      <th>wind</th>\n",
       "      <th>referee</th>\n",
       "      <th>stadium</th>\n",
       "      <th>bye_week</th>\n",
       "      <th>oline_rank</th>\n",
       "      <th>dline_rank</th>\n",
       "    </tr>\n",
       "  </thead>\n",
       "  <tbody>\n",
       "  </tbody>\n",
       "</table>\n",
       "<p>0 rows × 56 columns</p>\n",
       "</div>"
      ],
      "text/plain": [
       "Empty DataFrame\n",
       "Columns: [year, week, Team, Coach, G-season, W-season, L-season, T-season, G-w/team, W-w/team, L-w/team, T-w/team, G-career, W-career, L-career, T-career, G plyf-playoffs, W plyf-playoffs, L plyf-playoffs, G plyf-w/team, W plyf-w/team, L plyf-w/team, G plyf-career, W plyf-career, L plyf-career, Remark, w/same_team, Gms-fds, Rush-fds, Pass-fds, Pen-fds, Pct-tde, Pct-fde, gameday, weekday, gametime, away_team, home_team, away_moneyline, home_moneyline, spread_line, away_spread_odds, home_spread_odds, total_line, under_odds, over_odds, div_game, roof, surface, temp, wind, referee, stadium, bye_week, oline_rank, dline_rank]\n",
       "Index: []\n",
       "\n",
       "[0 rows x 56 columns]"
      ]
     },
     "execution_count": 31,
     "metadata": {},
     "output_type": "execute_result"
    }
   ],
   "source": [
    "duplicates = f_2024[f_2024.duplicated(subset=['year', 'Coach', 'week', 'Team'], keep=False)]\n",
    "duplicates"
   ]
  },
  {
   "cell_type": "markdown",
   "id": "47a997ce-eaba-4365-ba31-5ce60f4a9bb2",
   "metadata": {},
   "source": [
    "### Save Progress"
   ]
  },
  {
   "cell_type": "code",
   "execution_count": 32,
   "id": "2b6f1416-38d7-4993-afd8-c24395c8a5d9",
   "metadata": {},
   "outputs": [],
   "source": [
    "f_before_2024.rename(columns={'Team': 'team'}, inplace=True)\n",
    "f_2024.rename(columns={'Team': 'team'}, inplace=True)\n",
    "f_before_2024.to_pickle('pickles/f_before_2024.pickle')\n",
    "f_2024.to_pickle('pickles/f_2024.pickle')"
   ]
  },
  {
   "cell_type": "code",
   "execution_count": null,
   "id": "f5ef07a4-bb80-457a-9d83-b41588a7177d",
   "metadata": {},
   "outputs": [],
   "source": []
  }
 ],
 "metadata": {
  "kernelspec": {
   "display_name": "Python 3 (ipykernel)",
   "language": "python",
   "name": "python3"
  },
  "language_info": {
   "codemirror_mode": {
    "name": "ipython",
    "version": 3
   },
   "file_extension": ".py",
   "mimetype": "text/x-python",
   "name": "python",
   "nbconvert_exporter": "python",
   "pygments_lexer": "ipython3",
   "version": "3.12.3"
  }
 },
 "nbformat": 4,
 "nbformat_minor": 5
}
